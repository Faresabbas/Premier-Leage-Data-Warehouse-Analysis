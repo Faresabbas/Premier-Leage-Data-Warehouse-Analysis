{
    "metadata": {
        "kernelspec": {
            "name": "SQL",
            "display_name": "SQL",
            "language": "sql"
        },
        "language_info": {
            "name": "sql",
            "version": ""
        }
    },
    "nbformat_minor": 2,
    "nbformat": 4,
    "cells": [
        {
            "cell_type": "markdown",
            "source": [
                "# Premier Leage Data Warehouse Analysis"
            ],
            "metadata": {
                "azdata_cell_guid": "baf9dee7-c9a2-4808-bc61-9f1f5ca884f3"
            },
            "attachments": {}
        },
        {
            "cell_type": "markdown",
            "source": [
                "### Analysis 01: Top 5 Teams by Total Goals Scored\n",
                "**Description:** Find the top 5 teams with the highest total goals."
            ],
            "metadata": {
                "azdata_cell_guid": "2be4fcc1-4054-4325-b8e1-54925da00b9f"
            }
        },
        {
            "cell_type": "code",
            "source": [
                "SELECT TOP 5 \n",
                "    T.team_name, \n",
                "    SUM(TS.goals) AS total_goals\n",
                "FROM Team_Stats TS\n",
                "JOIN Teams T ON TS.team_name = T.team_name\n",
                "GROUP BY T.team_name\n",
                "ORDER BY total_goals DESC;"
            ],
            "metadata": {
                "azdata_cell_guid": "180be189-def1-4b27-b418-3110cdf19d56",
                "language": "sql",
                "tags": []
            },
            "outputs": [
                {
                    "output_type": "display_data",
                    "data": {
                        "text/html": "(5 rows affected)"
                    },
                    "metadata": {}
                },
                {
                    "output_type": "display_data",
                    "data": {
                        "text/html": "Total execution time: 00:00:00.014"
                    },
                    "metadata": {}
                },
                {
                    "output_type": "execute_result",
                    "metadata": {},
                    "execution_count": 3,
                    "data": {
                        "application/vnd.dataresource+json": {
                            "schema": {
                                "fields": [
                                    {
                                        "name": "team_name"
                                    },
                                    {
                                        "name": "total_goals"
                                    }
                                ]
                            },
                            "data": [
                                {
                                    "team_name": "Liverpool",
                                    "total_goals": "84"
                                },
                                {
                                    "team_name": "Manchester City",
                                    "total_goals": "69"
                                },
                                {
                                    "team_name": "Newcastle Utd",
                                    "total_goals": "66"
                                },
                                {
                                    "team_name": "Arsenal",
                                    "total_goals": "65"
                                },
                                {
                                    "team_name": "Brentford",
                                    "total_goals": "64"
                                }
                            ]
                        },
                        "text/html": [
                            "<table>",
                            "<tr><th>team_name</th><th>total_goals</th></tr>",
                            "<tr><td>Liverpool</td><td>84</td></tr>",
                            "<tr><td>Manchester City</td><td>69</td></tr>",
                            "<tr><td>Newcastle Utd</td><td>66</td></tr>",
                            "<tr><td>Arsenal</td><td>65</td></tr>",
                            "<tr><td>Brentford</td><td>64</td></tr>",
                            "</table>"
                        ]
                    }
                }
            ],
            "execution_count": 3
        },
        {
            "cell_type": "markdown",
            "source": [
                "### Analysis 02: Top 5 Players by Goals Scored\n",
                "**Description:** Find the top 5 players who scored the most goals."
            ],
            "metadata": {
                "azdata_cell_guid": "c99130bc-cb8e-4bd8-9554-fdbe1eedaa0e"
            }
        },
        {
            "cell_type": "code",
            "source": [
                "SELECT TOP 5 \n",
                "    P.player_name, \n",
                "    SUM(PS.goals) AS total_goals\n",
                "FROM Player_Stats PS\n",
                "JOIN Players P ON PS.player_name = P.player_name\n",
                "GROUP BY P.player_name\n",
                "ORDER BY total_goals DESC;"
            ],
            "metadata": {
                "azdata_cell_guid": "f8092783-f6d1-4c5b-9a53-64ecf7df45e8",
                "language": "sql"
            },
            "outputs": [
                {
                    "output_type": "display_data",
                    "data": {
                        "text/html": "(5 rows affected)"
                    },
                    "metadata": {}
                },
                {
                    "output_type": "display_data",
                    "data": {
                        "text/html": "Total execution time: 00:00:00.115"
                    },
                    "metadata": {}
                },
                {
                    "output_type": "execute_result",
                    "metadata": {},
                    "execution_count": 2,
                    "data": {
                        "application/vnd.dataresource+json": {
                            "schema": {
                                "fields": [
                                    {
                                        "name": "player_name"
                                    },
                                    {
                                        "name": "total_goals"
                                    }
                                ]
                            },
                            "data": [
                                {
                                    "player_name": "Mohamed Salah",
                                    "total_goals": "28"
                                },
                                {
                                    "player_name": "Alexander Isak",
                                    "total_goals": "23"
                                },
                                {
                                    "player_name": "Erling Haaland",
                                    "total_goals": "21"
                                },
                                {
                                    "player_name": "Chris Wood",
                                    "total_goals": "20"
                                },
                                {
                                    "player_name": "Bryan Mbeumo",
                                    "total_goals": "19"
                                }
                            ]
                        },
                        "text/html": [
                            "<table>",
                            "<tr><th>player_name</th><th>total_goals</th></tr>",
                            "<tr><td>Mohamed Salah</td><td>28</td></tr>",
                            "<tr><td>Alexander Isak</td><td>23</td></tr>",
                            "<tr><td>Erling Haaland</td><td>21</td></tr>",
                            "<tr><td>Chris Wood</td><td>20</td></tr>",
                            "<tr><td>Bryan Mbeumo</td><td>19</td></tr>",
                            "</table>"
                        ]
                    }
                }
            ],
            "execution_count": 2
        },
        {
            "cell_type": "markdown",
            "source": [
                "### Analysis 03: Average Age of Players Per Team\n",
                "**Description:** Calculate the average age of players in each team."
            ],
            "metadata": {
                "azdata_cell_guid": "72b4f46f-961e-46e1-8309-912b7fb6d021"
            }
        },
        {
            "cell_type": "code",
            "source": [
                "SELECT \n",
                "    P.team_name, \n",
                "    AVG(P.age) AS avg_age\n",
                "FROM Players P\n",
                "GROUP BY P.team_name\n",
                "ORDER BY avg_age DESC;"
            ],
            "metadata": {
                "azdata_cell_guid": "3263cf20-a5a8-4c46-8abb-923f5f5768d8",
                "language": "sql"
            },
            "outputs": [
                {
                    "output_type": "display_data",
                    "data": {
                        "text/html": "Warning: Null value is eliminated by an aggregate or other SET operation."
                    },
                    "metadata": {}
                },
                {
                    "output_type": "display_data",
                    "data": {
                        "text/html": "(20 rows affected)"
                    },
                    "metadata": {}
                },
                {
                    "output_type": "display_data",
                    "data": {
                        "text/html": "Total execution time: 00:00:00.182"
                    },
                    "metadata": {}
                },
                {
                    "output_type": "execute_result",
                    "metadata": {},
                    "execution_count": 4,
                    "data": {
                        "application/vnd.dataresource+json": {
                            "schema": {
                                "fields": [
                                    {
                                        "name": "team_name"
                                    },
                                    {
                                        "name": "avg_age"
                                    }
                                ]
                            },
                            "data": [
                                {
                                    "team_name": "Fulham",
                                    "avg_age": "27"
                                },
                                {
                                    "team_name": "Newcastle Utd",
                                    "avg_age": "27"
                                },
                                {
                                    "team_name": "West Ham",
                                    "avg_age": "27"
                                },
                                {
                                    "team_name": "Wolves",
                                    "avg_age": "26"
                                },
                                {
                                    "team_name": "Crystal Palace",
                                    "avg_age": "26"
                                },
                                {
                                    "team_name": "Everton",
                                    "avg_age": "26"
                                },
                                {
                                    "team_name": "Nott'ham Forest",
                                    "avg_age": "26"
                                },
                                {
                                    "team_name": "Ipswich Town",
                                    "avg_age": "26"
                                },
                                {
                                    "team_name": "Leicester City",
                                    "avg_age": "26"
                                },
                                {
                                    "team_name": "Liverpool",
                                    "avg_age": "26"
                                },
                                {
                                    "team_name": "Aston Villa",
                                    "avg_age": "26"
                                },
                                {
                                    "team_name": "Brighton",
                                    "avg_age": "25"
                                },
                                {
                                    "team_name": "Manchester City",
                                    "avg_age": "25"
                                },
                                {
                                    "team_name": "Manchester Utd",
                                    "avg_age": "25"
                                },
                                {
                                    "team_name": "Southampton",
                                    "avg_age": "25"
                                },
                                {
                                    "team_name": "Arsenal",
                                    "avg_age": "25"
                                },
                                {
                                    "team_name": "Tottenham",
                                    "avg_age": "24"
                                },
                                {
                                    "team_name": "Bournemouth",
                                    "avg_age": "24"
                                },
                                {
                                    "team_name": "Brentford",
                                    "avg_age": "24"
                                },
                                {
                                    "team_name": "Chelsea",
                                    "avg_age": "23"
                                }
                            ]
                        },
                        "text/html": [
                            "<table>",
                            "<tr><th>team_name</th><th>avg_age</th></tr>",
                            "<tr><td>Fulham</td><td>27</td></tr>",
                            "<tr><td>Newcastle Utd</td><td>27</td></tr>",
                            "<tr><td>West Ham</td><td>27</td></tr>",
                            "<tr><td>Wolves</td><td>26</td></tr>",
                            "<tr><td>Crystal Palace</td><td>26</td></tr>",
                            "<tr><td>Everton</td><td>26</td></tr>",
                            "<tr><td>Nott&#39;ham Forest</td><td>26</td></tr>",
                            "<tr><td>Ipswich Town</td><td>26</td></tr>",
                            "<tr><td>Leicester City</td><td>26</td></tr>",
                            "<tr><td>Liverpool</td><td>26</td></tr>",
                            "<tr><td>Aston Villa</td><td>26</td></tr>",
                            "<tr><td>Brighton</td><td>25</td></tr>",
                            "<tr><td>Manchester City</td><td>25</td></tr>",
                            "<tr><td>Manchester Utd</td><td>25</td></tr>",
                            "<tr><td>Southampton</td><td>25</td></tr>",
                            "<tr><td>Arsenal</td><td>25</td></tr>",
                            "<tr><td>Tottenham</td><td>24</td></tr>",
                            "<tr><td>Bournemouth</td><td>24</td></tr>",
                            "<tr><td>Brentford</td><td>24</td></tr>",
                            "<tr><td>Chelsea</td><td>23</td></tr>",
                            "</table>"
                        ]
                    }
                }
            ],
            "execution_count": 4
        },
        {
            "cell_type": "markdown",
            "source": [
                "### Analysis 04: Team with Highest Possession\n",
                "**Description:** Find the team with the highest average possession."
            ],
            "metadata": {
                "azdata_cell_guid": "78c2fd21-fd2d-44a0-af28-8a6da86172cc"
            }
        },
        {
            "cell_type": "code",
            "source": [
                "SELECT TOP 1\n",
                "    team_name,\n",
                "    AVG(possession) AS avg_possession\n",
                "FROM Team_Stats\n",
                "GROUP BY team_name\n",
                "ORDER BY avg_possession DESC;"
            ],
            "metadata": {
                "azdata_cell_guid": "1962c696-0d8d-4139-88e2-95dfcb837233",
                "language": "sql"
            },
            "outputs": [
                {
                    "output_type": "display_data",
                    "data": {
                        "text/html": "(1 row affected)"
                    },
                    "metadata": {}
                },
                {
                    "output_type": "display_data",
                    "data": {
                        "text/html": "Total execution time: 00:00:00.177"
                    },
                    "metadata": {}
                },
                {
                    "output_type": "execute_result",
                    "metadata": {},
                    "execution_count": 5,
                    "data": {
                        "application/vnd.dataresource+json": {
                            "schema": {
                                "fields": [
                                    {
                                        "name": "team_name"
                                    },
                                    {
                                        "name": "avg_possession"
                                    }
                                ]
                            },
                            "data": [
                                {
                                    "team_name": "Manchester City",
                                    "avg_possession": "61.599998474121094"
                                }
                            ]
                        },
                        "text/html": [
                            "<table>",
                            "<tr><th>team_name</th><th>avg_possession</th></tr>",
                            "<tr><td>Manchester City</td><td>61.599998474121094</td></tr>",
                            "</table>"
                        ]
                    }
                }
            ],
            "execution_count": 5
        },
        {
            "cell_type": "markdown",
            "source": [
                "### Analysis 05: Top 5 Teams by Salary Spending (Annual)\n",
                "**Description:** Find the teams that spend the most on salaries annually."
            ],
            "metadata": {
                "azdata_cell_guid": "8ab93d22-b2eb-436c-8c4a-8b61111e972d"
            }
        },
        {
            "cell_type": "code",
            "source": [
                "SELECT TOP 5\n",
                "    TS.team_name,\n",
                "    SUM(TS.annual) AS total_annual_salary\n",
                "FROM Team_Salaries TS\n",
                "GROUP BY TS.team_name\n",
                "ORDER BY total_annual_salary DESC;"
            ],
            "metadata": {
                "azdata_cell_guid": "29df63ac-d844-46f4-a404-745881c01f78",
                "language": "sql"
            },
            "outputs": [
                {
                    "output_type": "display_data",
                    "data": {
                        "text/html": "(5 rows affected)"
                    },
                    "metadata": {}
                },
                {
                    "output_type": "display_data",
                    "data": {
                        "text/html": "Total execution time: 00:00:00.101"
                    },
                    "metadata": {}
                },
                {
                    "output_type": "execute_result",
                    "metadata": {},
                    "execution_count": 6,
                    "data": {
                        "application/vnd.dataresource+json": {
                            "schema": {
                                "fields": [
                                    {
                                        "name": "team_name"
                                    },
                                    {
                                        "name": "total_annual_salary"
                                    }
                                ]
                            },
                            "data": [
                                {
                                    "team_name": "Manchester City",
                                    "total_annual_salary": "270992872"
                                },
                                {
                                    "team_name": "Manchester Utd",
                                    "total_annual_salary": "242779887"
                                },
                                {
                                    "team_name": "Chelsea",
                                    "total_annual_salary": "231062958"
                                },
                                {
                                    "team_name": "Arsenal",
                                    "total_annual_salary": "227432965"
                                },
                                {
                                    "team_name": "Liverpool",
                                    "total_annual_salary": "172913278"
                                }
                            ]
                        },
                        "text/html": [
                            "<table>",
                            "<tr><th>team_name</th><th>total_annual_salary</th></tr>",
                            "<tr><td>Manchester City</td><td>270992872</td></tr>",
                            "<tr><td>Manchester Utd</td><td>242779887</td></tr>",
                            "<tr><td>Chelsea</td><td>231062958</td></tr>",
                            "<tr><td>Arsenal</td><td>227432965</td></tr>",
                            "<tr><td>Liverpool</td><td>172913278</td></tr>",
                            "</table>"
                        ]
                    }
                }
            ],
            "execution_count": 6
        },
        {
            "cell_type": "markdown",
            "source": [
                "### Analysis 06: Player with Highest Expected Goals (xG)\n",
                "\n",
                "**Description:** Find the player with the highest total xG (Expected Goals)."
            ],
            "metadata": {
                "language": "sql",
                "azdata_cell_guid": "ce4b7407-cab9-4454-a6a1-a551e1f00bb3"
            },
            "attachments": {}
        },
        {
            "cell_type": "code",
            "source": [
                "SELECT TOP 1 \r\n",
                "    P.player_name,\r\n",
                "    SUM(PS.expected_goals) AS total_xG\r\n",
                "FROM Player_Stats PS\r\n",
                "JOIN Players P ON PS.player_name = P.player_name\r\n",
                "GROUP BY P.player_name\r\n",
                "ORDER BY total_xG DESC;"
            ],
            "metadata": {
                "language": "sql",
                "azdata_cell_guid": "36f524b0-121d-4741-9c9d-ab92d07236f7"
            },
            "outputs": [
                {
                    "output_type": "display_data",
                    "data": {
                        "text/html": "(1 row affected)"
                    },
                    "metadata": {}
                },
                {
                    "output_type": "display_data",
                    "data": {
                        "text/html": "Total execution time: 00:00:03.610"
                    },
                    "metadata": {}
                },
                {
                    "output_type": "execute_result",
                    "metadata": {},
                    "execution_count": 7,
                    "data": {
                        "application/vnd.dataresource+json": {
                            "schema": {
                                "fields": [
                                    {
                                        "name": "player_name"
                                    },
                                    {
                                        "name": "total_xG"
                                    }
                                ]
                            },
                            "data": [
                                {
                                    "player_name": "Mohamed Salah",
                                    "total_xG": "24.799999237060547"
                                }
                            ]
                        },
                        "text/html": [
                            "<table>",
                            "<tr><th>player_name</th><th>total_xG</th></tr>",
                            "<tr><td>Mohamed Salah</td><td>24.799999237060547</td></tr>",
                            "</table>"
                        ]
                    }
                }
            ],
            "execution_count": 7
        },
        {
            "cell_type": "markdown",
            "source": [
                "### Analysis 07: Team Standings Summary (Win Ratio)\n",
                "\n",
                "**Description:** Calculate win ratio for each team."
            ],
            "metadata": {
                "language": "sql",
                "azdata_cell_guid": "8d59cc5c-6a67-483e-afd7-0c6120941ddc"
            },
            "attachments": {}
        },
        {
            "cell_type": "code",
            "source": [
                "SELECT \r\n",
                "    team_name,\r\n",
                "    win,\r\n",
                "    draw,\r\n",
                "    loss,\r\n",
                "    CAST(win AS FLOAT) / (win + draw + loss) AS win_ratio\r\n",
                "FROM Standings\r\n",
                "ORDER BY win_ratio DESC;"
            ],
            "metadata": {
                "language": "sql",
                "azdata_cell_guid": "ce84baf7-7732-4a33-960c-11ac41562d92"
            },
            "outputs": [
                {
                    "output_type": "display_data",
                    "data": {
                        "text/html": "(20 rows affected)"
                    },
                    "metadata": {}
                },
                {
                    "output_type": "display_data",
                    "data": {
                        "text/html": "Total execution time: 00:00:00.144"
                    },
                    "metadata": {}
                },
                {
                    "output_type": "execute_result",
                    "metadata": {},
                    "execution_count": 9,
                    "data": {
                        "application/vnd.dataresource+json": {
                            "schema": {
                                "fields": [
                                    {
                                        "name": "team_name"
                                    },
                                    {
                                        "name": "win"
                                    },
                                    {
                                        "name": "draw"
                                    },
                                    {
                                        "name": "loss"
                                    },
                                    {
                                        "name": "win_ratio"
                                    }
                                ]
                            },
                            "data": [
                                {
                                    "team_name": "Liverpool",
                                    "win": "25",
                                    "draw": "8",
                                    "loss": "4",
                                    "win_ratio": "0.6756756756756757"
                                },
                                {
                                    "team_name": "Manchester City",
                                    "win": "20",
                                    "draw": "8",
                                    "loss": "9",
                                    "win_ratio": "0.5405405405405406"
                                },
                                {
                                    "team_name": "Newcastle Utd",
                                    "win": "20",
                                    "draw": "6",
                                    "loss": "11",
                                    "win_ratio": "0.5405405405405406"
                                },
                                {
                                    "team_name": "Nott'ham Forest",
                                    "win": "19",
                                    "draw": "8",
                                    "loss": "10",
                                    "win_ratio": "0.5135135135135135"
                                },
                                {
                                    "team_name": "Arsenal",
                                    "win": "19",
                                    "draw": "14",
                                    "loss": "4",
                                    "win_ratio": "0.5135135135135135"
                                },
                                {
                                    "team_name": "Aston Villa",
                                    "win": "19",
                                    "draw": "9",
                                    "loss": "9",
                                    "win_ratio": "0.5135135135135135"
                                },
                                {
                                    "team_name": "Chelsea",
                                    "win": "19",
                                    "draw": "9",
                                    "loss": "9",
                                    "win_ratio": "0.5135135135135135"
                                },
                                {
                                    "team_name": "Brentford",
                                    "win": "16",
                                    "draw": "7",
                                    "loss": "14",
                                    "win_ratio": "0.43243243243243246"
                                },
                                {
                                    "team_name": "Brighton",
                                    "win": "15",
                                    "draw": "13",
                                    "loss": "9",
                                    "win_ratio": "0.40540540540540543"
                                },
                                {
                                    "team_name": "Fulham",
                                    "win": "15",
                                    "draw": "9",
                                    "loss": "13",
                                    "win_ratio": "0.40540540540540543"
                                },
                                {
                                    "team_name": "Bournemouth",
                                    "win": "14",
                                    "draw": "11",
                                    "loss": "12",
                                    "win_ratio": "0.3783783783783784"
                                },
                                {
                                    "team_name": "Crystal Palace",
                                    "win": "13",
                                    "draw": "13",
                                    "loss": "11",
                                    "win_ratio": "0.35135135135135137"
                                },
                                {
                                    "team_name": "Wolves",
                                    "win": "12",
                                    "draw": "5",
                                    "loss": "20",
                                    "win_ratio": "0.32432432432432434"
                                },
                                {
                                    "team_name": "Tottenham",
                                    "win": "11",
                                    "draw": "5",
                                    "loss": "21",
                                    "win_ratio": "0.2972972972972973"
                                },
                                {
                                    "team_name": "West Ham",
                                    "win": "10",
                                    "draw": "10",
                                    "loss": "17",
                                    "win_ratio": "0.2702702702702703"
                                },
                                {
                                    "team_name": "Manchester Utd",
                                    "win": "10",
                                    "draw": "9",
                                    "loss": "18",
                                    "win_ratio": "0.2702702702702703"
                                },
                                {
                                    "team_name": "Everton",
                                    "win": "10",
                                    "draw": "15",
                                    "loss": "12",
                                    "win_ratio": "0.2702702702702703"
                                },
                                {
                                    "team_name": "Leicester City",
                                    "win": "6",
                                    "draw": "7",
                                    "loss": "24",
                                    "win_ratio": "0.16216216216216217"
                                },
                                {
                                    "team_name": "Ipswich Town",
                                    "win": "4",
                                    "draw": "10",
                                    "loss": "23",
                                    "win_ratio": "0.10810810810810811"
                                },
                                {
                                    "team_name": "Southampton",
                                    "win": "2",
                                    "draw": "6",
                                    "loss": "29",
                                    "win_ratio": "0.05405405405405406"
                                }
                            ]
                        },
                        "text/html": [
                            "<table>",
                            "<tr><th>team_name</th><th>win</th><th>draw</th><th>loss</th><th>win_ratio</th></tr>",
                            "<tr><td>Liverpool</td><td>25</td><td>8</td><td>4</td><td>0.6756756756756757</td></tr>",
                            "<tr><td>Manchester City</td><td>20</td><td>8</td><td>9</td><td>0.5405405405405406</td></tr>",
                            "<tr><td>Newcastle Utd</td><td>20</td><td>6</td><td>11</td><td>0.5405405405405406</td></tr>",
                            "<tr><td>Nott&#39;ham Forest</td><td>19</td><td>8</td><td>10</td><td>0.5135135135135135</td></tr>",
                            "<tr><td>Arsenal</td><td>19</td><td>14</td><td>4</td><td>0.5135135135135135</td></tr>",
                            "<tr><td>Aston Villa</td><td>19</td><td>9</td><td>9</td><td>0.5135135135135135</td></tr>",
                            "<tr><td>Chelsea</td><td>19</td><td>9</td><td>9</td><td>0.5135135135135135</td></tr>",
                            "<tr><td>Brentford</td><td>16</td><td>7</td><td>14</td><td>0.43243243243243246</td></tr>",
                            "<tr><td>Brighton</td><td>15</td><td>13</td><td>9</td><td>0.40540540540540543</td></tr>",
                            "<tr><td>Fulham</td><td>15</td><td>9</td><td>13</td><td>0.40540540540540543</td></tr>",
                            "<tr><td>Bournemouth</td><td>14</td><td>11</td><td>12</td><td>0.3783783783783784</td></tr>",
                            "<tr><td>Crystal Palace</td><td>13</td><td>13</td><td>11</td><td>0.35135135135135137</td></tr>",
                            "<tr><td>Wolves</td><td>12</td><td>5</td><td>20</td><td>0.32432432432432434</td></tr>",
                            "<tr><td>Tottenham</td><td>11</td><td>5</td><td>21</td><td>0.2972972972972973</td></tr>",
                            "<tr><td>West Ham</td><td>10</td><td>10</td><td>17</td><td>0.2702702702702703</td></tr>",
                            "<tr><td>Manchester Utd</td><td>10</td><td>9</td><td>18</td><td>0.2702702702702703</td></tr>",
                            "<tr><td>Everton</td><td>10</td><td>15</td><td>12</td><td>0.2702702702702703</td></tr>",
                            "<tr><td>Leicester City</td><td>6</td><td>7</td><td>24</td><td>0.16216216216216217</td></tr>",
                            "<tr><td>Ipswich Town</td><td>4</td><td>10</td><td>23</td><td>0.10810810810810811</td></tr>",
                            "<tr><td>Southampton</td><td>2</td><td>6</td><td>29</td><td>0.05405405405405406</td></tr>",
                            "</table>"
                        ]
                    }
                }
            ],
            "execution_count": 9
        },
        {
            "cell_type": "markdown",
            "source": [
                "Analysis 09: Player Efficiency (Goals per 90 Minutes)\n",
                "\n",
                "**Description:** Calculate goals per 90 minutes for each player."
            ],
            "metadata": {
                "azdata_cell_guid": "85cd7910-554e-4784-98fe-d0c917f41b5a"
            },
            "attachments": {}
        },
        {
            "cell_type": "code",
            "source": [
                "SELECT TOP 10\r\n",
                "    P.player_name,\r\n",
                "    SUM(PS.goals) * 90.0 / NULLIF(SUM(PS.minutes), 0) AS goals_per_90\r\n",
                "FROM Player_Stats PS\r\n",
                "JOIN Players P ON PS.player_name = P.player_name\r\n",
                "GROUP BY P.player_name\r\n",
                "HAVING SUM(PS.minutes) > 0\r\n",
                "ORDER BY goals_per_90 DESC;\r\n",
                ""
            ],
            "metadata": {
                "azdata_cell_guid": "a517f3b9-2d3e-4673-9cf7-a1972f3bf507",
                "language": "sql"
            },
            "outputs": [
                {
                    "output_type": "display_data",
                    "data": {
                        "text/html": "(10 rows affected)"
                    },
                    "metadata": {}
                },
                {
                    "output_type": "display_data",
                    "data": {
                        "text/html": "Total execution time: 00:00:00.012"
                    },
                    "metadata": {}
                },
                {
                    "output_type": "execute_result",
                    "metadata": {},
                    "execution_count": 12,
                    "data": {
                        "application/vnd.dataresource+json": {
                            "schema": {
                                "fields": [
                                    {
                                        "name": "player_name"
                                    },
                                    {
                                        "name": "goals_per_90"
                                    }
                                ]
                            },
                            "data": [
                                {
                                    "player_name": "Matheus França",
                                    "goals_per_90": "1.666666666666"
                                },
                                {
                                    "player_name": "Daniel Jebbison",
                                    "goals_per_90": "0.989010989010"
                                },
                                {
                                    "player_name": "Jáder Durán",
                                    "goals_per_90": "0.987460815047"
                                },
                                {
                                    "player_name": "Donyell Malen",
                                    "goals_per_90": "0.906040268456"
                                },
                                {
                                    "player_name": "Alexander Isak",
                                    "goals_per_90": "0.776444111027"
                                },
                                {
                                    "player_name": "James Mcatee",
                                    "goals_per_90": "0.773638968481"
                                },
                                {
                                    "player_name": "Mohamed Salah",
                                    "goals_per_90": "0.768058518744"
                                },
                                {
                                    "player_name": "Richarlison",
                                    "goals_per_90": "0.751565762004"
                                },
                                {
                                    "player_name": "Rodrigo Muniz",
                                    "goals_per_90": "0.746887966804"
                                },
                                {
                                    "player_name": "Erling Haaland",
                                    "goals_per_90": "0.712669683257"
                                }
                            ]
                        },
                        "text/html": [
                            "<table>",
                            "<tr><th>player_name</th><th>goals_per_90</th></tr>",
                            "<tr><td>Matheus França</td><td>1.666666666666</td></tr>",
                            "<tr><td>Daniel Jebbison</td><td>0.989010989010</td></tr>",
                            "<tr><td>Jáder Durán</td><td>0.987460815047</td></tr>",
                            "<tr><td>Donyell Malen</td><td>0.906040268456</td></tr>",
                            "<tr><td>Alexander Isak</td><td>0.776444111027</td></tr>",
                            "<tr><td>James Mcatee</td><td>0.773638968481</td></tr>",
                            "<tr><td>Mohamed Salah</td><td>0.768058518744</td></tr>",
                            "<tr><td>Richarlison</td><td>0.751565762004</td></tr>",
                            "<tr><td>Rodrigo Muniz</td><td>0.746887966804</td></tr>",
                            "<tr><td>Erling Haaland</td><td>0.712669683257</td></tr>",
                            "</table>"
                        ]
                    }
                }
            ],
            "execution_count": 12
        },
        {
            "cell_type": "markdown",
            "source": [
                "Analysis 10: Best Defensive Team (Least Goals Conceded)\n",
                "\n",
                "**Description:** Find the team that conceded the least number of goals."
            ],
            "metadata": {
                "azdata_cell_guid": "1d852b90-9e79-4233-a978-ac2bf3c582a2"
            },
            "attachments": {}
        },
        {
            "cell_type": "code",
            "source": [
                "SELECT TOP 1\r\n",
                "    team_name,\r\n",
                "    conceded\r\n",
                "FROM Standings\r\n",
                "ORDER BY conceded ASC;"
            ],
            "metadata": {
                "azdata_cell_guid": "3c4d54e4-3efd-47f7-9a1f-f5afbb79c9b9",
                "language": "sql"
            },
            "outputs": [
                {
                    "output_type": "display_data",
                    "data": {
                        "text/html": "(1 row affected)"
                    },
                    "metadata": {}
                },
                {
                    "output_type": "display_data",
                    "data": {
                        "text/html": "Total execution time: 00:00:00.079"
                    },
                    "metadata": {}
                },
                {
                    "output_type": "execute_result",
                    "metadata": {},
                    "execution_count": 13,
                    "data": {
                        "application/vnd.dataresource+json": {
                            "schema": {
                                "fields": [
                                    {
                                        "name": "team_name"
                                    },
                                    {
                                        "name": "conceded"
                                    }
                                ]
                            },
                            "data": [
                                {
                                    "team_name": "Arsenal",
                                    "conceded": "33"
                                }
                            ]
                        },
                        "text/html": [
                            "<table>",
                            "<tr><th>team_name</th><th>conceded</th></tr>",
                            "<tr><td>Arsenal</td><td>33</td></tr>",
                            "</table>"
                        ]
                    }
                }
            ],
            "execution_count": 13
        },
        {
            "cell_type": "markdown",
            "source": [
                "Analysis 11: Fixtures with the Highest Attendance\n",
                "\n",
                "**Description**: List the top 5 fixtures with the highest attendance."
            ],
            "metadata": {
                "language": "sql",
                "azdata_cell_guid": "9e4f2aad-ddab-48ae-be8c-da520fc20c11"
            },
            "attachments": {}
        },
        {
            "cell_type": "code",
            "source": [
                "SELECT TOP 5\r\n",
                "    home_team,\r\n",
                "    away_team,\r\n",
                "    match_date,\r\n",
                "    attendance\r\n",
                "FROM Fixtures\r\n",
                "ORDER BY attendance DESC;"
            ],
            "metadata": {
                "language": "sql",
                "azdata_cell_guid": "ba0de2ee-5dac-4604-bd4e-b55c81c7017c"
            },
            "outputs": [
                {
                    "output_type": "display_data",
                    "data": {
                        "text/html": "(5 rows affected)"
                    },
                    "metadata": {}
                },
                {
                    "output_type": "display_data",
                    "data": {
                        "text/html": "Total execution time: 00:00:00.074"
                    },
                    "metadata": {}
                },
                {
                    "output_type": "execute_result",
                    "metadata": {},
                    "execution_count": 14,
                    "data": {
                        "application/vnd.dataresource+json": {
                            "schema": {
                                "fields": [
                                    {
                                        "name": "home_team"
                                    },
                                    {
                                        "name": "away_team"
                                    },
                                    {
                                        "name": "match_date"
                                    },
                                    {
                                        "name": "attendance"
                                    }
                                ]
                            },
                            "data": [
                                {
                                    "home_team": "Manchester Utd",
                                    "away_team": "Aston Villa",
                                    "match_date": "2025-05-25",
                                    "attendance": "73839"
                                },
                                {
                                    "home_team": "Manchester Utd",
                                    "away_team": "Leicester City",
                                    "match_date": "2024-11-10",
                                    "attendance": "73829"
                                },
                                {
                                    "home_team": "Manchester Utd",
                                    "away_team": "Ipswich Town",
                                    "match_date": "2025-02-26",
                                    "attendance": "73827"
                                },
                                {
                                    "home_team": "Manchester Utd",
                                    "away_team": "Wolves",
                                    "match_date": "2025-04-20",
                                    "attendance": "73819"
                                },
                                {
                                    "home_team": "Manchester Utd",
                                    "away_team": "Everton",
                                    "match_date": "2024-12-01",
                                    "attendance": "73817"
                                }
                            ]
                        },
                        "text/html": [
                            "<table>",
                            "<tr><th>home_team</th><th>away_team</th><th>match_date</th><th>attendance</th></tr>",
                            "<tr><td>Manchester Utd</td><td>Aston Villa</td><td>2025-05-25</td><td>73839</td></tr>",
                            "<tr><td>Manchester Utd</td><td>Leicester City</td><td>2024-11-10</td><td>73829</td></tr>",
                            "<tr><td>Manchester Utd</td><td>Ipswich Town</td><td>2025-02-26</td><td>73827</td></tr>",
                            "<tr><td>Manchester Utd</td><td>Wolves</td><td>2025-04-20</td><td>73819</td></tr>",
                            "<tr><td>Manchester Utd</td><td>Everton</td><td>2024-12-01</td><td>73817</td></tr>",
                            "</table>"
                        ]
                    }
                }
            ],
            "execution_count": 14
        },
        {
            "cell_type": "markdown",
            "source": [
                "Analysis 12: Team Carry Distance Leaders\n",
                "\n",
                "**Description**: Find the teams with the most total distance carried."
            ],
            "metadata": {
                "language": "sql",
                "azdata_cell_guid": "08dd31c2-c6b7-4e61-ab75-ee96ca7d1091"
            },
            "attachments": {}
        },
        {
            "cell_type": "code",
            "source": [
                "SELECT TOP 5\r\n",
                "    team_name,\r\n",
                "    SUM(total_distance_carried) AS total_carry_distance\r\n",
                "FROM Team_Possession_Stats\r\n",
                "GROUP BY team_name\r\n",
                "ORDER BY total_carry_distance DESC;\r\n",
                ""
            ],
            "metadata": {
                "language": "sql",
                "azdata_cell_guid": "6ef7deb2-6bf3-4762-8d91-9e1c9e670289"
            },
            "outputs": [
                {
                    "output_type": "display_data",
                    "data": {
                        "text/html": "(5 rows affected)"
                    },
                    "metadata": {}
                },
                {
                    "output_type": "display_data",
                    "data": {
                        "text/html": "Total execution time: 00:00:00.082"
                    },
                    "metadata": {}
                },
                {
                    "output_type": "execute_result",
                    "metadata": {},
                    "execution_count": 15,
                    "data": {
                        "application/vnd.dataresource+json": {
                            "schema": {
                                "fields": [
                                    {
                                        "name": "team_name"
                                    },
                                    {
                                        "name": "total_carry_distance"
                                    }
                                ]
                            },
                            "data": [
                                {
                                    "team_name": "Manchester City",
                                    "total_carry_distance": "101274"
                                },
                                {
                                    "team_name": "Tottenham",
                                    "total_carry_distance": "81603"
                                },
                                {
                                    "team_name": "Chelsea",
                                    "total_carry_distance": "76825"
                                },
                                {
                                    "team_name": "Brighton",
                                    "total_carry_distance": "74918"
                                },
                                {
                                    "team_name": "Liverpool",
                                    "total_carry_distance": "73791"
                                }
                            ]
                        },
                        "text/html": [
                            "<table>",
                            "<tr><th>team_name</th><th>total_carry_distance</th></tr>",
                            "<tr><td>Manchester City</td><td>101274</td></tr>",
                            "<tr><td>Tottenham</td><td>81603</td></tr>",
                            "<tr><td>Chelsea</td><td>76825</td></tr>",
                            "<tr><td>Brighton</td><td>74918</td></tr>",
                            "<tr><td>Liverpool</td><td>73791</td></tr>",
                            "</table>"
                        ]
                    }
                }
            ],
            "execution_count": 15
        },
        {
            "cell_type": "markdown",
            "source": [
                "Analysis 13: Players with Most Carries\n",
                "\n",
                "**Description**: Identify the players with the highest number of carries."
            ],
            "metadata": {
                "language": "sql",
                "azdata_cell_guid": "9a85258f-afa9-44d4-96a1-d1d9fc4a0074"
            },
            "attachments": {}
        },
        {
            "cell_type": "code",
            "source": [
                "SELECT TOP 5\r\n",
                "    player_name,\r\n",
                "    SUM(carries) AS total_carries\r\n",
                "FROM Player_Possession_Stats\r\n",
                "GROUP BY player_name\r\n",
                "ORDER BY total_carries DESC;"
            ],
            "metadata": {
                "language": "sql",
                "azdata_cell_guid": "96c3e978-82f0-40e7-9564-5e2310fbf276"
            },
            "outputs": [
                {
                    "output_type": "display_data",
                    "data": {
                        "text/html": "(5 rows affected)"
                    },
                    "metadata": {}
                },
                {
                    "output_type": "display_data",
                    "data": {
                        "text/html": "Total execution time: 00:00:00.223"
                    },
                    "metadata": {}
                },
                {
                    "output_type": "execute_result",
                    "metadata": {},
                    "execution_count": 16,
                    "data": {
                        "application/vnd.dataresource+json": {
                            "schema": {
                                "fields": [
                                    {
                                        "name": "player_name"
                                    },
                                    {
                                        "name": "total_carries"
                                    }
                                ]
                            },
                            "data": [
                                {
                                    "player_name": "Joško Gvardiol",
                                    "total_carries": "1966"
                                },
                                {
                                    "player_name": "Virgil van Dijk",
                                    "total_carries": "1779"
                                },
                                {
                                    "player_name": "William Saliba",
                                    "total_carries": "1756"
                                },
                                {
                                    "player_name": "Rúben Dias",
                                    "total_carries": "1724"
                                },
                                {
                                    "player_name": "Jan Paul van Hecke",
                                    "total_carries": "1660"
                                }
                            ]
                        },
                        "text/html": [
                            "<table>",
                            "<tr><th>player_name</th><th>total_carries</th></tr>",
                            "<tr><td>Joško Gvardiol</td><td>1966</td></tr>",
                            "<tr><td>Virgil van Dijk</td><td>1779</td></tr>",
                            "<tr><td>William Saliba</td><td>1756</td></tr>",
                            "<tr><td>Rúben Dias</td><td>1724</td></tr>",
                            "<tr><td>Jan Paul van Hecke</td><td>1660</td></tr>",
                            "</table>"
                        ]
                    }
                }
            ],
            "execution_count": 16
        },
        {
            "cell_type": "markdown",
            "source": [
                "Analysis 14: Most Frequent Referee\n",
                "\n",
                "**Description**: Find the referee who officiated the most matches."
            ],
            "metadata": {
                "language": "sql",
                "azdata_cell_guid": "738d8ab2-9ac4-40e8-9d0d-d27ac856f8e5"
            },
            "attachments": {}
        },
        {
            "cell_type": "code",
            "source": [
                "SELECT TOP 1\r\n",
                "    referee,\r\n",
                "    COUNT(*) AS matches_officiated\r\n",
                "FROM Fixtures\r\n",
                "GROUP BY referee\r\n",
                "ORDER BY matches_officiated DESC;"
            ],
            "metadata": {
                "language": "sql",
                "azdata_cell_guid": "01c0e6c3-d000-48fe-b789-8594700461c4"
            },
            "outputs": [
                {
                    "output_type": "display_data",
                    "data": {
                        "text/html": "(1 row affected)"
                    },
                    "metadata": {}
                },
                {
                    "output_type": "display_data",
                    "data": {
                        "text/html": "Total execution time: 00:00:00.076"
                    },
                    "metadata": {}
                },
                {
                    "output_type": "execute_result",
                    "metadata": {},
                    "execution_count": 17,
                    "data": {
                        "application/vnd.dataresource+json": {
                            "schema": {
                                "fields": [
                                    {
                                        "name": "referee"
                                    },
                                    {
                                        "name": "matches_officiated"
                                    }
                                ]
                            },
                            "data": [
                                {
                                    "referee": "Anthony Taylor",
                                    "matches_officiated": "31"
                                }
                            ]
                        },
                        "text/html": [
                            "<table>",
                            "<tr><th>referee</th><th>matches_officiated</th></tr>",
                            "<tr><td>Anthony Taylor</td><td>31</td></tr>",
                            "</table>"
                        ]
                    }
                }
            ],
            "execution_count": 17
        },
        {
            "cell_type": "markdown",
            "source": [
                "Analysis 15: Day with the Most Matches\n",
                "\n",
                "**Description**: Find which day had the most matches played."
            ],
            "metadata": {
                "language": "sql",
                "azdata_cell_guid": "c917c853-5f7f-495e-aad9-1ffedf9ec56a"
            },
            "attachments": {}
        },
        {
            "cell_type": "code",
            "source": [
                "SELECT TOP 1\r\n",
                "    day,\r\n",
                "    COUNT(*) AS matches_played\r\n",
                "FROM Fixtures\r\n",
                "GROUP BY day\r\n",
                "ORDER BY matches_played DESC;"
            ],
            "metadata": {
                "language": "sql",
                "azdata_cell_guid": "023d58e4-0b1f-4e75-b1d6-01eae948043c"
            },
            "outputs": [
                {
                    "output_type": "display_data",
                    "data": {
                        "text/html": "(1 row affected)"
                    },
                    "metadata": {}
                },
                {
                    "output_type": "display_data",
                    "data": {
                        "text/html": "Total execution time: 00:00:00.665"
                    },
                    "metadata": {}
                },
                {
                    "output_type": "execute_result",
                    "metadata": {},
                    "execution_count": 18,
                    "data": {
                        "application/vnd.dataresource+json": {
                            "schema": {
                                "fields": [
                                    {
                                        "name": "day"
                                    },
                                    {
                                        "name": "matches_played"
                                    }
                                ]
                            },
                            "data": [
                                {
                                    "day": "Sat",
                                    "matches_played": "179"
                                }
                            ]
                        },
                        "text/html": [
                            "<table>",
                            "<tr><th>day</th><th>matches_played</th></tr>",
                            "<tr><td>Sat</td><td>179</td></tr>",
                            "</table>"
                        ]
                    }
                }
            ],
            "execution_count": 18
        },
        {
            "cell_type": "markdown",
            "source": [
                "## Final Note: Endless Analysis Opportunities\n",
                "\n",
                "The analyses presented in this notebook represent only a small fraction of the insights that can be derived from this rich football dataset.\n",
                "\n",
                "With the available data, hundreds of other analyses can be conducted, such as:\n",
                "\n",
                "- **Injury Impact Analysis:** Studying how player injuries affect team performance over a season.\n",
                "    \n",
                "- **Home vs Away Performance Comparison:** Evaluating whether teams perform better at home versus away fixtures.\n",
                "    \n",
                "- **Player Value vs Salary Efficiency:** Comparing player market value to their salaries to determine cost-efficiency.\n",
                "    \n",
                "- **Pass Network Visualization:** Analyzing and visualizing passing networks between players during matches.\n",
                "    \n",
                "- **Expected Points (xP) Calculation:** Predicting final league standings based on advanced metrics like xG and xA.\n",
                "    \n",
                "- **Managerial Impact Analysis:** Measuring changes in team performance before and after managerial changes.\n",
                "    \n",
                "- **Weather Conditions Effect:** Investigating if weather conditions (e.g., rain, temperature) impact match outcomes or player performance.\n",
                "    \n",
                "- **Fan Attendance Impact:** Evaluating whether high attendance correlates with better home team performance.\n",
                "    \n",
                "- **Financial Fair Play (FFP) Analysis:** Monitoring if teams comply with spending regulations related to player salaries and transfers.\n",
                "    \n",
                "- **Clustering and Segmentation:** Segmenting teams or players based on playing style, performance, or financial metrics using machine learning.\n",
                "    \n",
                "\n",
                "These are just a few of the many directions possible; the potential for creative and insightful data exploration in football analytics is practically limitless."
            ],
            "metadata": {
                "language": "sql",
                "azdata_cell_guid": "aec26e5f-4c1d-41d4-adfd-1b332ab65665"
            },
            "attachments": {}
        }
    ]
}