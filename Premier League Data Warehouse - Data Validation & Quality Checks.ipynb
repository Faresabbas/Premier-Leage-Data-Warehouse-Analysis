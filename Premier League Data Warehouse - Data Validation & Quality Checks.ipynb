{
    "metadata": {
        "kernelspec": {
            "name": "SQL",
            "display_name": "SQL",
            "language": "sql"
        },
        "language_info": {
            "name": "sql",
            "version": ""
        }
    },
    "nbformat_minor": 2,
    "nbformat": 4,
    "cells": [
        {
            "cell_type": "markdown",
            "source": [
                "<span style=\"font-weight: 600; background-color: rgb(41, 42, 45); color: rgb(248, 250, 255); font-family: quote-cjk-patch, Inter, system-ui, -apple-system, BlinkMacSystemFont, &quot;Segoe UI&quot;, Roboto, &quot;Noto Sans&quot;, Ubuntu, Cantarell, &quot;Helvetica Neue&quot;, Oxygen, &quot;Open Sans&quot;, sans-serif; font-size: 27.432px;\">Premier League Data Warehouse - Data Validation &amp; Quality Checks</span>"
            ],
            "metadata": {
                "azdata_cell_guid": "8af82787-e7bc-4ffb-99b9-e93d19c2f8c2"
            },
            "attachments": {}
        },
        {
            "cell_type": "markdown",
            "source": [
                "## 📌 Introduction\n",
                "\n",
                "This SQL Notebook contains data validation and quality checks for the Premier League Data Warehouse to ensure:  \n",
                "✅ Referential Integrity (Foreign Key constraints)  \n",
                "✅ Data Completeness (No NULLs in critical fields)  \n",
                "✅ Data Consistency (Valid ranges, no duplicates)  \n",
                "✅ Business Logic (e.g., `goals` ≥ 0, `possession` between 0-100)"
            ],
            "metadata": {
                "azdata_cell_guid": "25a0a1b8-db2a-4ffb-ae21-41f5f839a79d"
            },
            "attachments": {}
        },
        {
            "cell_type": "markdown",
            "source": [
                "## 🔍 1. Referential Integrity Checks\n",
                "\n",
                "### 1.1 Players with No Team Reference (Orphaned Players)"
            ],
            "metadata": {
                "azdata_cell_guid": "9acee387-e5cd-434c-8e73-b69dabbb6c4e"
            },
            "attachments": {}
        },
        {
            "cell_type": "code",
            "source": [
                "SELECT \r\n",
                "    p.player_name,\r\n",
                "    p.team_name\r\n",
                "FROM \r\n",
                "    Players p\r\n",
                "LEFT JOIN \r\n",
                "    Teams t ON p.team_name = t.team_name\r\n",
                "WHERE \r\n",
                "    t.team_name IS NULL;"
            ],
            "metadata": {
                "azdata_cell_guid": "8154d665-0225-4cd3-81c3-e9c98e75b087",
                "language": "sql"
            },
            "outputs": [
                {
                    "output_type": "display_data",
                    "data": {
                        "text/html": "(0 rows affected)"
                    },
                    "metadata": {}
                },
                {
                    "output_type": "display_data",
                    "data": {
                        "text/html": "Total execution time: 00:00:00.302"
                    },
                    "metadata": {}
                },
                {
                    "output_type": "execute_result",
                    "metadata": {},
                    "execution_count": 1,
                    "data": {
                        "application/vnd.dataresource+json": {
                            "schema": {
                                "fields": [
                                    {
                                        "name": "player_name"
                                    },
                                    {
                                        "name": "team_name"
                                    }
                                ]
                            },
                            "data": []
                        },
                        "text/html": [
                            "<table>",
                            "<tr><th>player_name</th><th>team_name</th></tr>",
                            "</table>"
                        ]
                    }
                }
            ],
            "execution_count": 1
        },
        {
            "cell_type": "markdown",
            "source": [
                "### 1.2 Fixtures with Invalid Team References"
            ],
            "metadata": {
                "language": "sql",
                "azdata_cell_guid": "8a8f6e48-5234-44cd-9cd7-5636f72b4c8c"
            },
            "attachments": {}
        },
        {
            "cell_type": "code",
            "source": [
                "SELECT \r\n",
                "    f.week,\r\n",
                "    f.home_team,\r\n",
                "    f.away_team\r\n",
                "FROM \r\n",
                "    Fixtures f\r\n",
                "LEFT JOIN \r\n",
                "    Teams ht ON f.home_team = ht.team_name\r\n",
                "LEFT JOIN \r\n",
                "    Teams at ON f.away_team = at.team_name\r\n",
                "WHERE \r\n",
                "    ht.team_name IS NULL OR at.team_name IS NULL;"
            ],
            "metadata": {
                "language": "sql",
                "azdata_cell_guid": "aee15304-0059-41b8-a80a-942b46025833"
            },
            "outputs": [
                {
                    "output_type": "display_data",
                    "data": {
                        "text/html": "(0 rows affected)"
                    },
                    "metadata": {}
                },
                {
                    "output_type": "display_data",
                    "data": {
                        "text/html": "Total execution time: 00:00:00.095"
                    },
                    "metadata": {}
                },
                {
                    "output_type": "execute_result",
                    "metadata": {},
                    "execution_count": 2,
                    "data": {
                        "application/vnd.dataresource+json": {
                            "schema": {
                                "fields": [
                                    {
                                        "name": "week"
                                    },
                                    {
                                        "name": "home_team"
                                    },
                                    {
                                        "name": "away_team"
                                    }
                                ]
                            },
                            "data": []
                        },
                        "text/html": [
                            "<table>",
                            "<tr><th>week</th><th>home_team</th><th>away_team</th></tr>",
                            "</table>"
                        ]
                    }
                }
            ],
            "execution_count": 2
        },
        {
            "cell_type": "markdown",
            "source": [
                "## 📊 2. Data Completeness Checks\n",
                "\n",
                "### 2.1 Missing Player Stats"
            ],
            "metadata": {
                "language": "sql",
                "azdata_cell_guid": "695e207d-d047-4f62-9846-c9e9c4259f6a"
            },
            "attachments": {}
        },
        {
            "cell_type": "code",
            "source": [
                "SELECT \r\n",
                "    p.player_name\r\n",
                "FROM \r\n",
                "    Players p\r\n",
                "LEFT JOIN \r\n",
                "    Player_Stats ps ON p.player_name = ps.player_name\r\n",
                "WHERE \r\n",
                "    ps.player_name IS NULL;"
            ],
            "metadata": {
                "language": "sql",
                "azdata_cell_guid": "28dda549-f278-4490-a811-f8c7150bcb8c"
            },
            "outputs": [
                {
                    "output_type": "display_data",
                    "data": {
                        "text/html": "(0 rows affected)"
                    },
                    "metadata": {}
                },
                {
                    "output_type": "display_data",
                    "data": {
                        "text/html": "Total execution time: 00:00:00.125"
                    },
                    "metadata": {}
                },
                {
                    "output_type": "execute_result",
                    "metadata": {},
                    "execution_count": 3,
                    "data": {
                        "application/vnd.dataresource+json": {
                            "schema": {
                                "fields": [
                                    {
                                        "name": "player_name"
                                    }
                                ]
                            },
                            "data": []
                        },
                        "text/html": [
                            "<table>",
                            "<tr><th>player_name</th></tr>",
                            "</table>"
                        ]
                    }
                }
            ],
            "execution_count": 3
        },
        {
            "cell_type": "markdown",
            "source": [
                "### 2.2 NULL Values in Critical Columns"
            ],
            "metadata": {
                "language": "sql",
                "azdata_cell_guid": "d7dcffd2-d797-4eb1-a38b-8970b026202b"
            },
            "attachments": {}
        },
        {
            "cell_type": "code",
            "source": [
                "-- Check for NULLs in Player_Stats\r\n",
                "SELECT \r\n",
                "    player_name,\r\n",
                "    played,\r\n",
                "    goals,\r\n",
                "    assists\r\n",
                "FROM \r\n",
                "    Player_Stats\r\n",
                "WHERE \r\n",
                "    played IS NULL \r\n",
                "    OR goals IS NULL \r\n",
                "    OR assists IS NULL;"
            ],
            "metadata": {
                "language": "sql",
                "azdata_cell_guid": "7b366530-df0b-4c0a-98a2-3dd022ad8a64"
            },
            "outputs": [
                {
                    "output_type": "display_data",
                    "data": {
                        "text/html": "(0 rows affected)"
                    },
                    "metadata": {}
                },
                {
                    "output_type": "display_data",
                    "data": {
                        "text/html": "Total execution time: 00:00:00.148"
                    },
                    "metadata": {}
                },
                {
                    "output_type": "execute_result",
                    "metadata": {},
                    "execution_count": 4,
                    "data": {
                        "application/vnd.dataresource+json": {
                            "schema": {
                                "fields": [
                                    {
                                        "name": "player_name"
                                    },
                                    {
                                        "name": "played"
                                    },
                                    {
                                        "name": "goals"
                                    },
                                    {
                                        "name": "assists"
                                    }
                                ]
                            },
                            "data": []
                        },
                        "text/html": [
                            "<table>",
                            "<tr><th>player_name</th><th>played</th><th>goals</th><th>assists</th></tr>",
                            "</table>"
                        ]
                    }
                }
            ],
            "execution_count": 4
        },
        {
            "cell_type": "markdown",
            "source": [
                "## 🔢 3. Data Consistency & Business Logic\n",
                "\n",
                "### 3.1 Negative Stats (Invalid Values)"
            ],
            "metadata": {
                "language": "sql",
                "azdata_cell_guid": "f61d1cbb-0163-4128-bdbf-2039ab047a16"
            },
            "attachments": {}
        },
        {
            "cell_type": "code",
            "source": [
                "SELECT \r\n",
                "    player_name,\r\n",
                "    goals,\r\n",
                "    assists,\r\n",
                "    yellow,\r\n",
                "    red\r\n",
                "FROM \r\n",
                "    Player_Stats\r\n",
                "WHERE \r\n",
                "    goals < 0 \r\n",
                "    OR assists < 0 \r\n",
                "    OR yellow < 0 \r\n",
                "    OR red < 0;"
            ],
            "metadata": {
                "language": "sql",
                "azdata_cell_guid": "7f896011-9c07-478d-a9e1-4074fcc87078"
            },
            "outputs": [
                {
                    "output_type": "display_data",
                    "data": {
                        "text/html": "(0 rows affected)"
                    },
                    "metadata": {}
                },
                {
                    "output_type": "display_data",
                    "data": {
                        "text/html": "Total execution time: 00:00:00.018"
                    },
                    "metadata": {}
                },
                {
                    "output_type": "execute_result",
                    "metadata": {},
                    "execution_count": 5,
                    "data": {
                        "application/vnd.dataresource+json": {
                            "schema": {
                                "fields": [
                                    {
                                        "name": "player_name"
                                    },
                                    {
                                        "name": "goals"
                                    },
                                    {
                                        "name": "assists"
                                    },
                                    {
                                        "name": "yellow"
                                    },
                                    {
                                        "name": "red"
                                    }
                                ]
                            },
                            "data": []
                        },
                        "text/html": [
                            "<table>",
                            "<tr><th>player_name</th><th>goals</th><th>assists</th><th>yellow</th><th>red</th></tr>",
                            "</table>"
                        ]
                    }
                }
            ],
            "execution_count": 5
        },
        {
            "cell_type": "markdown",
            "source": [
                "### 3.2 Possession Percentage Out of Range (0-100%)"
            ],
            "metadata": {
                "language": "sql",
                "azdata_cell_guid": "fec346e2-1d36-42db-b2b4-3df33ba83f3d"
            },
            "attachments": {}
        },
        {
            "cell_type": "code",
            "source": [
                "SELECT \r\n",
                "    team_name,\r\n",
                "    possession\r\n",
                "FROM \r\n",
                "    Team_Stats\r\n",
                "WHERE \r\n",
                "    possession < 0 OR possession > 100;"
            ],
            "metadata": {
                "language": "sql",
                "azdata_cell_guid": "854be26a-445d-498f-a63d-cc5922c47b87"
            },
            "outputs": [
                {
                    "output_type": "display_data",
                    "data": {
                        "text/html": "(0 rows affected)"
                    },
                    "metadata": {}
                },
                {
                    "output_type": "display_data",
                    "data": {
                        "text/html": "Total execution time: 00:00:00.088"
                    },
                    "metadata": {}
                },
                {
                    "output_type": "execute_result",
                    "metadata": {},
                    "execution_count": 6,
                    "data": {
                        "application/vnd.dataresource+json": {
                            "schema": {
                                "fields": [
                                    {
                                        "name": "team_name"
                                    },
                                    {
                                        "name": "possession"
                                    }
                                ]
                            },
                            "data": []
                        },
                        "text/html": [
                            "<table>",
                            "<tr><th>team_name</th><th>possession</th></tr>",
                            "</table>"
                        ]
                    }
                }
            ],
            "execution_count": 6
        },
        {
            "cell_type": "markdown",
            "source": [
                "### 3.3 Duplicate Players"
            ],
            "metadata": {
                "language": "sql",
                "azdata_cell_guid": "3660e6ac-3af7-46de-baaa-875c46662518"
            },
            "attachments": {}
        },
        {
            "cell_type": "code",
            "source": [
                "SELECT \r\n",
                "    player_name,\r\n",
                "    COUNT(*) as duplicate_count\r\n",
                "FROM \r\n",
                "    Players\r\n",
                "GROUP BY \r\n",
                "    player_name\r\n",
                "HAVING \r\n",
                "    COUNT(*) > 1;"
            ],
            "metadata": {
                "language": "sql",
                "azdata_cell_guid": "b6c37d62-52b7-4ee0-b908-f19923e00e81"
            },
            "outputs": [
                {
                    "output_type": "display_data",
                    "data": {
                        "text/html": "(0 rows affected)"
                    },
                    "metadata": {}
                },
                {
                    "output_type": "display_data",
                    "data": {
                        "text/html": "Total execution time: 00:00:00.089"
                    },
                    "metadata": {}
                },
                {
                    "output_type": "execute_result",
                    "metadata": {},
                    "execution_count": 7,
                    "data": {
                        "application/vnd.dataresource+json": {
                            "schema": {
                                "fields": [
                                    {
                                        "name": "player_name"
                                    },
                                    {
                                        "name": "duplicate_count"
                                    }
                                ]
                            },
                            "data": []
                        },
                        "text/html": [
                            "<table>",
                            "<tr><th>player_name</th><th>duplicate_count</th></tr>",
                            "</table>"
                        ]
                    }
                }
            ],
            "execution_count": 7
        },
        {
            "cell_type": "markdown",
            "source": [
                "## 📈 4. Cross-Table Validation\n",
                "\n",
                "### 4.1 Player Goals vs. Team Goals Mismatch"
            ],
            "metadata": {
                "language": "sql",
                "azdata_cell_guid": "33ed0cad-0105-4320-b29f-f13a5b85d915"
            },
            "attachments": {}
        },
        {
            "cell_type": "code",
            "source": [
                "SELECT \r\n",
                "    p.team_name,\r\n",
                "    SUM(ps.goals) AS total_player_goals,\r\n",
                "    ts.goals AS team_goals\r\n",
                "FROM \r\n",
                "    Players p\r\n",
                "JOIN \r\n",
                "    Player_Stats ps ON p.player_name = ps.player_name\r\n",
                "JOIN \r\n",
                "    Team_Stats ts ON p.team_name = ts.team_name\r\n",
                "GROUP BY \r\n",
                "    p.team_name, ts.goals\r\n",
                "HAVING \r\n",
                "    SUM(ps.goals) != ts.goals;"
            ],
            "metadata": {
                "language": "sql",
                "azdata_cell_guid": "e2ec409a-67d5-45e8-9724-1ac56784b950"
            },
            "outputs": [
                {
                    "output_type": "display_data",
                    "data": {
                        "text/html": "(7 rows affected)"
                    },
                    "metadata": {}
                },
                {
                    "output_type": "display_data",
                    "data": {
                        "text/html": "Total execution time: 00:00:00.139"
                    },
                    "metadata": {}
                },
                {
                    "output_type": "execute_result",
                    "metadata": {},
                    "execution_count": 8,
                    "data": {
                        "application/vnd.dataresource+json": {
                            "schema": {
                                "fields": [
                                    {
                                        "name": "team_name"
                                    },
                                    {
                                        "name": "total_player_goals"
                                    },
                                    {
                                        "name": "team_goals"
                                    }
                                ]
                            },
                            "data": [
                                {
                                    "team_name": "Aston Villa",
                                    "total_player_goals": "54",
                                    "team_goals": "56"
                                },
                                {
                                    "team_name": "Brighton",
                                    "total_player_goals": "59",
                                    "team_goals": "60"
                                },
                                {
                                    "team_name": "Chelsea",
                                    "total_player_goals": "59",
                                    "team_goals": "60"
                                },
                                {
                                    "team_name": "Everton",
                                    "total_player_goals": "37",
                                    "team_goals": "38"
                                },
                                {
                                    "team_name": "Fulham",
                                    "total_player_goals": "52",
                                    "team_goals": "53"
                                },
                                {
                                    "team_name": "Ipswich Town",
                                    "total_player_goals": "32",
                                    "team_goals": "34"
                                },
                                {
                                    "team_name": "Leicester City",
                                    "total_player_goals": "28",
                                    "team_goals": "33"
                                }
                            ]
                        },
                        "text/html": [
                            "<table>",
                            "<tr><th>team_name</th><th>total_player_goals</th><th>team_goals</th></tr>",
                            "<tr><td>Aston Villa</td><td>54</td><td>56</td></tr>",
                            "<tr><td>Brighton</td><td>59</td><td>60</td></tr>",
                            "<tr><td>Chelsea</td><td>59</td><td>60</td></tr>",
                            "<tr><td>Everton</td><td>37</td><td>38</td></tr>",
                            "<tr><td>Fulham</td><td>52</td><td>53</td></tr>",
                            "<tr><td>Ipswich Town</td><td>32</td><td>34</td></tr>",
                            "<tr><td>Leicester City</td><td>28</td><td>33</td></tr>",
                            "</table>"
                        ]
                    }
                }
            ],
            "execution_count": 8
        },
        {
            "cell_type": "markdown",
            "source": [
                "## 🛠 Root Cause Analysis\n",
                "\n",
                "Possible explanations for these discrepancies:\n",
                "\n",
                "1. Own goals (counted in team totals but not attributed to players)\n",
                "    \n",
                "2. Penalty shootout goals (may be recorded differently)\n",
                "    \n",
                "3. Data entry errors in either player or team stats\n",
                "    \n",
                "4. Missing players from the Players table who scored goals\n",
                "    \n",
                "5. Different time periods between player and team data extracts"
            ],
            "metadata": {
                "azdata_cell_guid": "f9b4ef47-3d81-4e4b-8c30-be4621465791"
            },
            "attachments": {}
        },
        {
            "cell_type": "markdown",
            "source": [
                "## 🛠 5. Automated Data Quality Dashboard"
            ],
            "metadata": {
                "azdata_cell_guid": "3db33d50-c116-4f59-9dee-a2d916874e80"
            },
            "attachments": {}
        },
        {
            "cell_type": "code",
            "source": [
                "-- Summary of Data Quality Issues\r\n",
                "SELECT \r\n",
                "    'Referential Integrity' AS check_type,\r\n",
                "    COUNT(*) AS issues_found\r\n",
                "FROM \r\n",
                "    (SELECT player_name FROM Players WHERE team_name NOT IN (SELECT team_name FROM Teams)) AS ref_check\r\n",
                "UNION ALL\r\n",
                "SELECT \r\n",
                "    'Negative Stats',\r\n",
                "    COUNT(*)\r\n",
                "FROM \r\n",
                "    Player_Stats\r\n",
                "WHERE \r\n",
                "    goals < 0 OR assists < 0\r\n",
                "UNION ALL\r\n",
                "SELECT \r\n",
                "    'NULL Critical Fields',\r\n",
                "    COUNT(*)\r\n",
                "FROM \r\n",
                "    Player_Stats\r\n",
                "WHERE \r\n",
                "    played IS NULL OR goals IS NULL;"
            ],
            "metadata": {
                "azdata_cell_guid": "2e230775-7fa3-499f-b906-4f8f3ecb0c62",
                "language": "sql"
            },
            "outputs": [
                {
                    "output_type": "display_data",
                    "data": {
                        "text/html": "(3 rows affected)"
                    },
                    "metadata": {}
                },
                {
                    "output_type": "display_data",
                    "data": {
                        "text/html": "Total execution time: 00:00:00.204"
                    },
                    "metadata": {}
                },
                {
                    "output_type": "execute_result",
                    "metadata": {},
                    "execution_count": 10,
                    "data": {
                        "application/vnd.dataresource+json": {
                            "schema": {
                                "fields": [
                                    {
                                        "name": "check_type"
                                    },
                                    {
                                        "name": "issues_found"
                                    }
                                ]
                            },
                            "data": [
                                {
                                    "check_type": "Referential Integrity",
                                    "issues_found": "0"
                                },
                                {
                                    "check_type": "Negative Stats",
                                    "issues_found": "0"
                                },
                                {
                                    "check_type": "NULL Critical Fields",
                                    "issues_found": "0"
                                }
                            ]
                        },
                        "text/html": [
                            "<table>",
                            "<tr><th>check_type</th><th>issues_found</th></tr>",
                            "<tr><td>Referential Integrity</td><td>0</td></tr>",
                            "<tr><td>Negative Stats</td><td>0</td></tr>",
                            "<tr><td>NULL Critical Fields</td><td>0</td></tr>",
                            "</table>"
                        ]
                    }
                }
            ],
            "execution_count": 10
        },
        {
            "cell_type": "markdown",
            "source": [
                "## 📌 Conclusion\n",
                "\n",
                "This notebook ensures high-quality, consistent, and reliable data in the Premier League Data Warehouse."
            ],
            "metadata": {
                "azdata_cell_guid": "a545fbbe-4159-45bb-8887-c4fd997cfbad"
            },
            "attachments": {}
        }
    ]
}